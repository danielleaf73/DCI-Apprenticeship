{
 "cells": [
  {
   "cell_type": "markdown",
   "metadata": {},
   "source": [
    "# Average Comments for Posts on Hacker News"
   ]
  },
  {
   "cell_type": "markdown",
   "metadata": {},
   "source": [
    "This notebook looks at the number of comments for posts on Hacker News, calculates the averages, and separates them by the time the posts were posted."
   ]
  },
  {
   "cell_type": "code",
   "execution_count": 1,
   "metadata": {
    "collapsed": true
   },
   "outputs": [],
   "source": [
    "import csv\n",
    "import datetime as dt"
   ]
  },
  {
   "cell_type": "code",
   "execution_count": 2,
   "metadata": {
    "collapsed": true
   },
   "outputs": [],
   "source": [
    "opened_file = open(\"hacker_news.csv\")\n",
    "tbl_file = list(csv.reader(opened_file))"
   ]
  },
  {
   "cell_type": "code",
   "execution_count": 3,
   "metadata": {
    "collapsed": true
   },
   "outputs": [],
   "source": [
    "def explore_data(dataset, start = 1, end = 11):\n",
    "    i = 0\n",
    "    for s in dataset[0]:\n",
    "        print('Header', i, '-', s)\n",
    "        i += 1\n",
    "    print('\\nDataset contains ', len(dataset)-1, ' rows and ',\n",
    "        len(dataset[0]), ' columns.\\n')\n",
    "    for row in dataset[start:end]:\n",
    "        print(row)\n",
    "        print('\\n') # adds a new (empty) line after each row"
   ]
  },
  {
   "cell_type": "code",
   "execution_count": 4,
   "metadata": {
    "collapsed": true
   },
   "outputs": [],
   "source": [
    "def print_rows(rows_list, start = 0, end = -1):\n",
    "    for row in rows_list[start:end]:\n",
    "        print(row, '\\n')"
   ]
  },
  {
   "cell_type": "code",
   "execution_count": 5,
   "metadata": {
    "collapsed": false
   },
   "outputs": [],
   "source": [
    "def sort_data(dataset, sort_field, reverse = False):\n",
    "    reordered_list = []\n",
    "    sorted_list = []\n",
    "    for row in dataset:\n",
    "        reordered_row = []\n",
    "        reordered_row.append(row[sort_field])\n",
    "        for x in row[:sort_field]:\n",
    "            reordered_row.append(x)\n",
    "        for x in row[sort_field+1:]:\n",
    "            reordered_row.append(x)\n",
    "        reordered_list.append(reordered_row)\n",
    "    \n",
    "    sorted_list = sorted(reordered_list, reverse = reverse)\n",
    "    \n",
    "    return sorted_list"
   ]
  },
  {
   "cell_type": "code",
   "execution_count": 6,
   "metadata": {
    "collapsed": false
   },
   "outputs": [
    {
     "name": "stdout",
     "output_type": "stream",
     "text": [
      "Header 0 - id\n",
      "Header 1 - title\n",
      "Header 2 - url\n",
      "Header 3 - num_points\n",
      "Header 4 - num_comments\n",
      "Header 5 - author\n",
      "Header 6 - created_at\n",
      "\n",
      "Dataset contains  20100  rows and  7  columns.\n",
      "\n",
      "['12224879', 'Interactive Dynamic Video', 'http://www.interactivedynamicvideo.com/', '386', '52', 'ne0phyte', '8/4/2016 11:52']\n",
      "\n",
      "\n",
      "['10975351', 'How to Use Open Source and Shut the Fuck Up at the Same Time', 'http://hueniverse.com/2016/01/26/how-to-use-open-source-and-shut-the-fuck-up-at-the-same-time/', '39', '10', 'josep2', '1/26/2016 19:30']\n",
      "\n",
      "\n",
      "['11964716', \"Florida DJs May Face Felony for April Fools' Water Joke\", 'http://www.thewire.com/entertainment/2013/04/florida-djs-april-fools-water-joke/63798/', '2', '1', 'vezycash', '6/23/2016 22:20']\n",
      "\n",
      "\n",
      "['11919867', 'Technology ventures: From Idea to Enterprise', 'https://www.amazon.com/Technology-Ventures-Enterprise-Thomas-Byers/dp/0073523429', '3', '1', 'hswarna', '6/17/2016 0:01']\n",
      "\n",
      "\n",
      "['10301696', 'Note by Note: The Making of Steinway L1037 (2007)', 'http://www.nytimes.com/2007/11/07/movies/07stein.html?_r=0', '8', '2', 'walterbell', '9/30/2015 4:12']\n",
      "\n",
      "\n"
     ]
    }
   ],
   "source": [
    "explore_data(tbl_file, 1, 6)"
   ]
  },
  {
   "cell_type": "markdown",
   "metadata": {},
   "source": [
    "The following creates a dictionary containing the names of the headers as keys and the numbers as values. This enables me to access a field by the name of the column, instead of having to look up the index number of the element."
   ]
  },
  {
   "cell_type": "code",
   "execution_count": 14,
   "metadata": {
    "collapsed": true
   },
   "outputs": [],
   "source": [
    "headers = tbl_file[0]\n",
    "hn = tbl_file[1:]\n",
    "\n",
    "hd = {}\n",
    "i = 0\n",
    "for s in headers:\n",
    "    hd[s] = i\n",
    "    i += 1"
   ]
  },
  {
   "cell_type": "code",
   "execution_count": 15,
   "metadata": {
    "collapsed": false
   },
   "outputs": [
    {
     "name": "stdout",
     "output_type": "stream",
     "text": [
      "['id', 'title', 'url', 'num_points', 'num_comments', 'author', 'created_at'] \n",
      "\n",
      " {'title': 1, 'url': 2, 'author': 5, 'id': 0, 'num_comments': 4, 'created_at': 6, 'num_points': 3} \n",
      "\n",
      "\n",
      "['12224879', 'Interactive Dynamic Video', 'http://www.interactivedynamicvideo.com/', '386', '52', 'ne0phyte', '8/4/2016 11:52'] \n",
      "\n",
      "['10975351', 'How to Use Open Source and Shut the Fuck Up at the Same Time', 'http://hueniverse.com/2016/01/26/how-to-use-open-source-and-shut-the-fuck-up-at-the-same-time/', '39', '10', 'josep2', '1/26/2016 19:30'] \n",
      "\n",
      "['11964716', \"Florida DJs May Face Felony for April Fools' Water Joke\", 'http://www.thewire.com/entertainment/2013/04/florida-djs-april-fools-water-joke/63798/', '2', '1', 'vezycash', '6/23/2016 22:20'] \n",
      "\n",
      "['11919867', 'Technology ventures: From Idea to Enterprise', 'https://www.amazon.com/Technology-Ventures-Enterprise-Thomas-Byers/dp/0073523429', '3', '1', 'hswarna', '6/17/2016 0:01'] \n",
      "\n",
      "['10301696', 'Note by Note: The Making of Steinway L1037 (2007)', 'http://www.nytimes.com/2007/11/07/movies/07stein.html?_r=0', '8', '2', 'walterbell', '9/30/2015 4:12'] \n",
      "\n"
     ]
    }
   ],
   "source": [
    "print(headers, '\\n\\n', hd, '\\n\\n')\n",
    "print_rows(hn, 0, 5)"
   ]
  },
  {
   "cell_type": "markdown",
   "metadata": {},
   "source": [
    "The following creates separate lists for the Ask HN posts, the Show HN posts, and the other posts."
   ]
  },
  {
   "cell_type": "code",
   "execution_count": 16,
   "metadata": {
    "collapsed": false
   },
   "outputs": [
    {
     "name": "stdout",
     "output_type": "stream",
     "text": [
      "Number of Ask HN posts: 1744\n",
      "Number of Show HN posts: 1162\n",
      "Number of other posts: 17194\n"
     ]
    }
   ],
   "source": [
    "ask_posts = []\n",
    "show_posts = []\n",
    "other_posts = []\n",
    "\n",
    "i = 0\n",
    "for row in hn:\n",
    "    i += 1\n",
    "    title = row[hd['title']]\n",
    "    if title.lower().startswith('ask hn'):\n",
    "        ask_posts.append(row)\n",
    "    elif title.lower().startswith('show hn'):\n",
    "        show_posts.append(row)\n",
    "    else:\n",
    "        other_posts.append(row)\n",
    "    \n",
    "print('Number of Ask HN posts:', len(ask_posts))\n",
    "print('Number of Show HN posts:', len(show_posts))\n",
    "print('Number of other posts:', len(other_posts))"
   ]
  },
  {
   "cell_type": "markdown",
   "metadata": {},
   "source": [
    "The following calculates the total and average comments for each of the previous lists. As you can see, both the total and average for the Ask HN list are more than for the Show HN list."
   ]
  },
  {
   "cell_type": "code",
   "execution_count": 17,
   "metadata": {
    "collapsed": false
   },
   "outputs": [
    {
     "name": "stdout",
     "output_type": "stream",
     "text": [
      "Total Ask HN comments: 24483\n",
      "Average Ask HN comments: 14.038417431192661\n"
     ]
    }
   ],
   "source": [
    "total_ask_comments = 0\n",
    "\n",
    "for row in ask_posts:\n",
    "    total_ask_comments += int(row[hd['num_comments']])\n",
    "\n",
    "print('Total Ask HN comments:', total_ask_comments)\n",
    "\n",
    "avg_ask_comments = total_ask_comments / len(ask_posts)\n",
    "\n",
    "print('Average Ask HN comments:', avg_ask_comments)"
   ]
  },
  {
   "cell_type": "code",
   "execution_count": 18,
   "metadata": {
    "collapsed": false
   },
   "outputs": [
    {
     "name": "stdout",
     "output_type": "stream",
     "text": [
      "Total Show HN comments: 11988\n",
      "Average Show HN comments: 10.31669535283993\n"
     ]
    }
   ],
   "source": [
    "total_show_comments = 0\n",
    "\n",
    "for row in show_posts:\n",
    "    total_show_comments += int(row[hd['num_comments']])\n",
    "\n",
    "print('Total Show HN comments:', total_show_comments)\n",
    "\n",
    "avg_show_comments = total_show_comments / len(show_posts)\n",
    "\n",
    "print('Average Show HN comments:', avg_show_comments)"
   ]
  },
  {
   "cell_type": "markdown",
   "metadata": {},
   "source": [
    "The following creates a list containing when each post was created and the number of comments for that post. Then it uses my 'print_rows' function to print the first 10 rows with line breaks for easy reading."
   ]
  },
  {
   "cell_type": "code",
   "execution_count": 22,
   "metadata": {
    "collapsed": false
   },
   "outputs": [
    {
     "name": "stdout",
     "output_type": "stream",
     "text": [
      "['8/16/2016 9:55', '6'] \n",
      "\n",
      "['11/22/2015 13:43', '29'] \n",
      "\n",
      "['5/2/2016 10:14', '1'] \n",
      "\n",
      "['8/2/2016 14:20', '3'] \n",
      "\n",
      "['10/15/2015 16:38', '17'] \n",
      "\n",
      "['9/26/2015 23:23', '1'] \n",
      "\n",
      "['4/22/2016 12:24', '4'] \n",
      "\n",
      "['11/16/2015 9:22', '1'] \n",
      "\n",
      "['2/24/2016 17:57', '1'] \n",
      "\n",
      "['6/4/2016 17:17', '2'] \n",
      "\n"
     ]
    }
   ],
   "source": [
    "result_list = []\n",
    "for row in ask_posts:\n",
    "    result_list.append([row[hd['created_at']], row[hd['num_comments']]])\n",
    "\n",
    "print_rows(result_list, 0, 10)"
   ]
  },
  {
   "cell_type": "markdown",
   "metadata": {},
   "source": [
    "The following creates two dictionaries, one to store the number of posts per hour and the other the number of comments per hour."
   ]
  },
  {
   "cell_type": "code",
   "execution_count": 23,
   "metadata": {
    "collapsed": true
   },
   "outputs": [],
   "source": [
    "counts_by_hour = {}\n",
    "comments_by_hour = {}\n",
    "for row in result_list:\n",
    "    dt_object = dt.datetime.strptime(row[0], '%m/%d/%Y %H:%M')\n",
    "    hour = int(dt_object.strftime('%H'))\n",
    "    if hour not in counts_by_hour:\n",
    "        counts_by_hour[hour] = 1\n",
    "        comments_by_hour[hour] = int(row[1])\n",
    "    else:\n",
    "        counts_by_hour[hour] += 1\n",
    "        comments_by_hour[hour] += int(row[1])"
   ]
  },
  {
   "cell_type": "markdown",
   "metadata": {},
   "source": [
    "The following uses the posts per hour and comments per hour to calculate the average number of comments per post for each hour. Then it prints the total and average number of comments for each hour."
   ]
  },
  {
   "cell_type": "code",
   "execution_count": 24,
   "metadata": {
    "collapsed": false
   },
   "outputs": [
    {
     "name": "stdout",
     "output_type": "stream",
     "text": [
      "There were 55 posts posted during hour 0 \n",
      "Total comments: 447\n",
      "Average comments: 8.127272727272727\n",
      "\n",
      "\n",
      "There were 60 posts posted during hour 1 \n",
      "Total comments: 683\n",
      "Average comments: 11.383333333333333\n",
      "\n",
      "\n",
      "There were 58 posts posted during hour 2 \n",
      "Total comments: 1381\n",
      "Average comments: 23.810344827586206\n",
      "\n",
      "\n",
      "There were 54 posts posted during hour 3 \n",
      "Total comments: 421\n",
      "Average comments: 7.796296296296297\n",
      "\n",
      "\n",
      "There were 47 posts posted during hour 4 \n",
      "Total comments: 337\n",
      "Average comments: 7.170212765957447\n",
      "\n",
      "\n",
      "There were 46 posts posted during hour 5 \n",
      "Total comments: 464\n",
      "Average comments: 10.08695652173913\n",
      "\n",
      "\n",
      "There were 44 posts posted during hour 6 \n",
      "Total comments: 397\n",
      "Average comments: 9.022727272727273\n",
      "\n",
      "\n",
      "There were 34 posts posted during hour 7 \n",
      "Total comments: 267\n",
      "Average comments: 7.852941176470588\n",
      "\n",
      "\n",
      "There were 48 posts posted during hour 8 \n",
      "Total comments: 492\n",
      "Average comments: 10.25\n",
      "\n",
      "\n",
      "There were 45 posts posted during hour 9 \n",
      "Total comments: 251\n",
      "Average comments: 5.5777777777777775\n",
      "\n",
      "\n",
      "There were 59 posts posted during hour 10 \n",
      "Total comments: 793\n",
      "Average comments: 13.440677966101696\n",
      "\n",
      "\n",
      "There were 58 posts posted during hour 11 \n",
      "Total comments: 641\n",
      "Average comments: 11.051724137931034\n",
      "\n",
      "\n",
      "There were 73 posts posted during hour 12 \n",
      "Total comments: 687\n",
      "Average comments: 9.41095890410959\n",
      "\n",
      "\n",
      "There were 85 posts posted during hour 13 \n",
      "Total comments: 1253\n",
      "Average comments: 14.741176470588234\n",
      "\n",
      "\n",
      "There were 107 posts posted during hour 14 \n",
      "Total comments: 1416\n",
      "Average comments: 13.233644859813085\n",
      "\n",
      "\n",
      "There were 116 posts posted during hour 15 \n",
      "Total comments: 4477\n",
      "Average comments: 38.5948275862069\n",
      "\n",
      "\n",
      "There were 108 posts posted during hour 16 \n",
      "Total comments: 1814\n",
      "Average comments: 16.796296296296298\n",
      "\n",
      "\n",
      "There were 100 posts posted during hour 17 \n",
      "Total comments: 1146\n",
      "Average comments: 11.46\n",
      "\n",
      "\n",
      "There were 109 posts posted during hour 18 \n",
      "Total comments: 1439\n",
      "Average comments: 13.20183486238532\n",
      "\n",
      "\n",
      "There were 110 posts posted during hour 19 \n",
      "Total comments: 1188\n",
      "Average comments: 10.8\n",
      "\n",
      "\n",
      "There were 80 posts posted during hour 20 \n",
      "Total comments: 1722\n",
      "Average comments: 21.525\n",
      "\n",
      "\n",
      "There were 109 posts posted during hour 21 \n",
      "Total comments: 1745\n",
      "Average comments: 16.009174311926607\n",
      "\n",
      "\n",
      "There were 71 posts posted during hour 22 \n",
      "Total comments: 479\n",
      "Average comments: 6.746478873239437\n",
      "\n",
      "\n",
      "There were 68 posts posted during hour 23 \n",
      "Total comments: 543\n",
      "Average comments: 7.985294117647059\n",
      "\n",
      "\n"
     ]
    }
   ],
   "source": [
    "avg_by_hour = []\n",
    "for hour in counts_by_hour:\n",
    "    print('There were', counts_by_hour[hour], 'posts posted during hour',\n",
    "          hour, '\\nTotal comments:', comments_by_hour[hour])\n",
    "    \n",
    "    avg_comments = int(comments_by_hour[hour]) / int(counts_by_hour[hour])\n",
    "    avg_by_hour.append([hour, avg_comments])\n",
    "    print('Average comments:', avg_comments)\n",
    "    print('\\n')"
   ]
  },
  {
   "cell_type": "markdown",
   "metadata": {},
   "source": [
    "The following uses the 'sort_data' function I created, which sorts a list by any field. In this case, it sorts the list of average comments for each hour by the average number of comments, in reverse order. Then it formats and prints the hour and the average comments for the top 5 rows."
   ]
  },
  {
   "cell_type": "code",
   "execution_count": 25,
   "metadata": {
    "collapsed": false
   },
   "outputs": [
    {
     "name": "stdout",
     "output_type": "stream",
     "text": [
      "Top 5 Hours for Ask Posts Comments\n",
      "15:00: 38.59 average comments per post\n",
      "02:00: 23.81 average comments per post\n",
      "20:00: 21.52 average comments per post\n",
      "16:00: 16.80 average comments per post\n",
      "21:00: 16.01 average comments per post\n"
     ]
    }
   ],
   "source": [
    "sorted_swap = sort_data(avg_by_hour, 1, True)\n",
    "\n",
    "print(\"Top 5 Hours for Ask Posts Comments\")\n",
    "for row in sorted_swap[0:5]:\n",
    "    f_hour = dt.datetime.strptime(str(row[1]), '%H').strftime('%H:00:')\n",
    "    print(f_hour, '{avg:.2f} average comments per post'.format(avg = row[0]))"
   ]
  },
  {
   "cell_type": "markdown",
   "metadata": {
    "collapsed": true
   },
   "source": [
    "The time zone for this data is Eastern Time, so I need to convert it to my time zone, which is Central Standard Time. According to this data, the best time to create a post to ensure the highest chance of receiving comments is between 2:00 and 3:00 PM Central Standard Time."
   ]
  },
  {
   "cell_type": "code",
   "execution_count": null,
   "metadata": {
    "collapsed": true
   },
   "outputs": [],
   "source": []
  }
 ],
 "metadata": {
  "kernelspec": {
   "display_name": "Python 3",
   "language": "python",
   "name": "python3"
  },
  "language_info": {
   "codemirror_mode": {
    "name": "ipython",
    "version": 3
   },
   "file_extension": ".py",
   "mimetype": "text/x-python",
   "name": "python",
   "nbconvert_exporter": "python",
   "pygments_lexer": "ipython3",
   "version": "3.4.3"
  }
 },
 "nbformat": 4,
 "nbformat_minor": 2
}
